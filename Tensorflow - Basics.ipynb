{
 "cells": [
  {
   "cell_type": "markdown",
   "metadata": {},
   "source": [
    "# Basics of Tensorflow"
   ]
  },
  {
   "cell_type": "markdown",
   "metadata": {},
   "source": [
    "### How Tensorflow Works?\n",
    "Tensorflow defines computations as graphs, and these are made with operations(Ops). So In general working with tensorflow is same as defining a series of operations in a Graph. "
   ]
  },
  {
   "cell_type": "markdown",
   "metadata": {},
   "source": [
    "Import Tensorflow Library"
   ]
  },
  {
   "cell_type": "code",
   "execution_count": 32,
   "metadata": {},
   "outputs": [],
   "source": [
    "import tensorflow as tf"
   ]
  },
  {
   "cell_type": "markdown",
   "metadata": {},
   "source": [
    "### Building a Graph"
   ]
  },
  {
   "cell_type": "code",
   "execution_count": 2,
   "metadata": {},
   "outputs": [
    {
     "data": {
      "text/plain": [
       "<tensorflow.python.framework.ops.Graph at 0x7f8f855bb5c0>"
      ]
     },
     "execution_count": 2,
     "metadata": {},
     "output_type": "execute_result"
    }
   ],
   "source": [
    "graph1 = tf.Graph()\n",
    "graph1"
   ]
  },
  {
   "cell_type": "markdown",
   "metadata": {},
   "source": [
    "To make computations with tensorflow. it's necessary to make operations.\n",
    "So call the tensorflow function that constructs new tf.oprations and tf.tensor objects and add them to graph1"
   ]
  },
  {
   "cell_type": "code",
   "execution_count": 8,
   "metadata": {},
   "outputs": [],
   "source": [
    "with graph1.as_default():\n",
    "    a = tf.constant([23], name = \"constant_a\")\n",
    "    b = tf.constant([34], name = \"constant_b\")"
   ]
  },
  {
   "cell_type": "markdown",
   "metadata": {},
   "source": [
    "Now run the graph into a Session to find the value of a and b"
   ]
  },
  {
   "cell_type": "code",
   "execution_count": 9,
   "metadata": {},
   "outputs": [
    {
     "name": "stdout",
     "output_type": "stream",
     "text": [
      "[23]\n"
     ]
    }
   ],
   "source": [
    "sess_a = tf.Session(graph = graph1)\n",
    "result_a = sess_a.run(a)\n",
    "print(result_a)\n",
    "sess_a.close()"
   ]
  },
  {
   "cell_type": "markdown",
   "metadata": {},
   "source": [
    "Similarly to find the value of b"
   ]
  },
  {
   "cell_type": "code",
   "execution_count": 10,
   "metadata": {},
   "outputs": [
    {
     "name": "stdout",
     "output_type": "stream",
     "text": [
      "[34]\n"
     ]
    }
   ],
   "source": [
    "sess_b = tf.Session(graph = graph1)\n",
    "result_b = sess_b.run(b)\n",
    "print(result_b)\n",
    "sess_b.close()"
   ]
  },
  {
   "cell_type": "markdown",
   "metadata": {},
   "source": [
    "Make an operation over these two Tensor function tf.add() that adds two tensors (c = a + b)"
   ]
  },
  {
   "cell_type": "code",
   "execution_count": 11,
   "metadata": {},
   "outputs": [],
   "source": [
    "with graph1.as_default():\n",
    "    c = tf.add(a,b)"
   ]
  },
  {
   "cell_type": "markdown",
   "metadata": {},
   "source": [
    "To find the value of c, run it into the Session"
   ]
  },
  {
   "cell_type": "code",
   "execution_count": 12,
   "metadata": {},
   "outputs": [
    {
     "name": "stdout",
     "output_type": "stream",
     "text": [
      "[57]\n"
     ]
    }
   ],
   "source": [
    "sess_c = tf.Session(graph = graph1)\n",
    "result_c = sess_c.run(c)\n",
    "print(result_c)\n",
    "sess_c.close()"
   ]
  },
  {
   "cell_type": "markdown",
   "metadata": {},
   "source": [
    "To avoid having to close, sessions everytime, Define it in a \"with\" block. So after running the \"with\" block, the Session will close automatically "
   ]
  },
  {
   "cell_type": "code",
   "execution_count": 13,
   "metadata": {},
   "outputs": [
    {
     "name": "stdout",
     "output_type": "stream",
     "text": [
      "[57]\n"
     ]
    }
   ],
   "source": [
    "with tf.Session(graph = graph1) as sess:\n",
    "    result = sess.run(c)\n",
    "    print(result)"
   ]
  },
  {
   "cell_type": "markdown",
   "metadata": {},
   "source": [
    "### Defining Multi-Dimensional arrays using Tensorflow"
   ]
  },
  {
   "cell_type": "code",
   "execution_count": 14,
   "metadata": {},
   "outputs": [],
   "source": [
    "graph2 = tf.Graph()"
   ]
  },
  {
   "cell_type": "code",
   "execution_count": 15,
   "metadata": {},
   "outputs": [],
   "source": [
    "with graph2.as_default():\n",
    "    Scalar = tf.constant(34)\n",
    "    Vector = tf.constant([1,2,3])\n",
    "    Matrix = tf.constant([[1,2,4],[5,6,7],[45,67,89]])\n",
    "    Tensor = tf.constant([[1,2,4],[5,6,7],[45,67,89],[1,2,4],[5,6,7],[45,67,89],[1,2,4],[5,6,7],[45,67,89]])\n",
    "    "
   ]
  },
  {
   "cell_type": "markdown",
   "metadata": {},
   "source": [
    "To find the values of the constant defined to the graph, run into the Session."
   ]
  },
  {
   "cell_type": "code",
   "execution_count": 30,
   "metadata": {},
   "outputs": [
    {
     "name": "stdout",
     "output_type": "stream",
     "text": [
      "Scalar:\n",
      "34\n",
      "Vector:\n",
      "[1 2 3]\n",
      "Matrix:\n",
      "[[ 1  2  4]\n",
      " [ 5  6  7]\n",
      " [45 67 89]]\n",
      "Tensor:\n",
      "[[ 1  2  4]\n",
      " [ 5  6  7]\n",
      " [45 67 89]\n",
      " [ 1  2  4]\n",
      " [ 5  6  7]\n",
      " [45 67 89]\n",
      " [ 1  2  4]\n",
      " [ 5  6  7]\n",
      " [45 67 89]]\n"
     ]
    }
   ],
   "source": [
    "with tf.Session(graph = graph2) as sess:\n",
    "    result = sess.run(Scalar)\n",
    "    print(\"Scalar:\")\n",
    "    print(result)\n",
    "    \n",
    "    result = sess.run(Vector)\n",
    "    print(\"Vector:\")\n",
    "    print(result)\n",
    "    \n",
    "    result = sess.run(Matrix)\n",
    "    print(\"Matrix:\")\n",
    "    print(result)\n",
    "    \n",
    "    result = sess.run(Tensor)\n",
    "    print(\"Tensor:\")\n",
    "    print(result)"
   ]
  },
  {
   "cell_type": "code",
   "execution_count": 17,
   "metadata": {},
   "outputs": [
    {
     "data": {
      "text/plain": [
       "TensorShape([])"
      ]
     },
     "execution_count": 17,
     "metadata": {},
     "output_type": "execute_result"
    }
   ],
   "source": [
    "Scalar.shape"
   ]
  },
  {
   "cell_type": "code",
   "execution_count": 18,
   "metadata": {},
   "outputs": [
    {
     "data": {
      "text/plain": [
       "TensorShape([Dimension(3)])"
      ]
     },
     "execution_count": 18,
     "metadata": {},
     "output_type": "execute_result"
    }
   ],
   "source": [
    "Vector.shape"
   ]
  },
  {
   "cell_type": "code",
   "execution_count": 19,
   "metadata": {},
   "outputs": [
    {
     "data": {
      "text/plain": [
       "TensorShape([Dimension(3), Dimension(3)])"
      ]
     },
     "execution_count": 19,
     "metadata": {},
     "output_type": "execute_result"
    }
   ],
   "source": [
    "Matrix.shape"
   ]
  },
  {
   "cell_type": "code",
   "execution_count": 20,
   "metadata": {},
   "outputs": [
    {
     "data": {
      "text/plain": [
       "TensorShape([Dimension(9), Dimension(3)])"
      ]
     },
     "execution_count": 20,
     "metadata": {},
     "output_type": "execute_result"
    }
   ],
   "source": [
    "Tensor.shape"
   ]
  },
  {
   "cell_type": "markdown",
   "metadata": {},
   "source": [
    "### Mathematical Operations"
   ]
  },
  {
   "cell_type": "code",
   "execution_count": 21,
   "metadata": {},
   "outputs": [],
   "source": [
    "graph3 = tf.Graph()"
   ]
  },
  {
   "cell_type": "code",
   "execution_count": 23,
   "metadata": {},
   "outputs": [],
   "source": [
    "with graph3.as_default():\n",
    "    Matrix_one = tf.constant([[1,2,4],[5,6,7],[45,67,89]])\n",
    "    Matrix_two = tf.constant([[13,23,43],[54,64,7],[45,67,89]])\n",
    "    \n",
    "    \n",
    "    add_1 = tf.add(Matrix_one, Matrix_two)\n",
    "    add_2 = Matrix_one + Matrix_two"
   ]
  },
  {
   "cell_type": "code",
   "execution_count": 26,
   "metadata": {},
   "outputs": [
    {
     "name": "stdout",
     "output_type": "stream",
     "text": [
      "Tensor operation:\n",
      "[[ 14  25  47]\n",
      " [ 59  70  14]\n",
      " [ 90 134 178]]\n",
      "Normal operation:\n",
      "[[ 14  25  47]\n",
      " [ 59  70  14]\n",
      " [ 90 134 178]]\n"
     ]
    }
   ],
   "source": [
    "with tf.Session(graph = graph3) as sess:\n",
    "    result = sess.run(add_1)\n",
    "    print(\"Tensor operation:\")\n",
    "    print(result)\n",
    "    \n",
    "    result = sess.run(add_2)\n",
    "    print(\"Normal operation:\")\n",
    "    print(result)"
   ]
  },
  {
   "cell_type": "code",
   "execution_count": 41,
   "metadata": {},
   "outputs": [],
   "source": [
    "with graph3.as_default():\n",
    "    Matrix_one = tf.constant([[1,2,4],[5,6,7],[45,67,89]])\n",
    "    Matrix_two = tf.constant([[13,23,43],[54,64,7],[45,67,89]])\n",
    "    \n",
    "    mul = tf.matmul(Matrix_one, Matrix_two)\n",
    "    sub = tf.subtract(Matrix_one, Matrix_two)"
   ]
  },
  {
   "cell_type": "code",
   "execution_count": 42,
   "metadata": {},
   "outputs": [
    {
     "name": "stdout",
     "output_type": "stream",
     "text": [
      "Multiplication Result:\n",
      "[[  301   419   413]\n",
      " [  704   968   880]\n",
      " [ 8208 11286 10325]]\n"
     ]
    }
   ],
   "source": [
    "with tf.Session(graph = graph3) as sess:\n",
    "    result = sess.run(mul)\n",
    "    print(\"Multiplication Result:\")\n",
    "    print(result)"
   ]
  },
  {
   "cell_type": "code",
   "execution_count": 44,
   "metadata": {},
   "outputs": [
    {
     "name": "stdout",
     "output_type": "stream",
     "text": [
      "Subtracted result:\n",
      "[[-12 -21 -39]\n",
      " [-49 -58   0]\n",
      " [  0   0   0]]\n"
     ]
    }
   ],
   "source": [
    "with tf.Session(graph = graph3) as sess:\n",
    "    result = sess.run(sub)\n",
    "    print(\"Subtracted result:\")\n",
    "    print(result)\n",
    "    "
   ]
  },
  {
   "cell_type": "markdown",
   "metadata": {},
   "source": [
    "### Variables"
   ]
  },
  {
   "cell_type": "markdown",
   "metadata": {},
   "source": [
    "Why do we need Variables?\n",
    "+ It's possible to update the value of a variable through each run, it's not possible with tensor"
   ]
  },
  {
   "cell_type": "markdown",
   "metadata": {},
   "source": [
    "How to define a variable?\n",
    "+ Using the command tf.Variable()\n",
    "+ To use variables in a computation graph it is necessary to initialize them before running the graph in a session.\n",
    "+ It is done by tf.global_variables_initializer()"
   ]
  },
  {
   "cell_type": "markdown",
   "metadata": {},
   "source": [
    "To update the value of a variable, run an assign operation that assigns a value to the variable"
   ]
  },
  {
   "cell_type": "code",
   "execution_count": 31,
   "metadata": {},
   "outputs": [],
   "source": [
    "v = tf.Variable(0)"
   ]
  },
  {
   "cell_type": "markdown",
   "metadata": {},
   "source": [
    "create a variable that increases one unit at a time.\n",
    "To do this use tf.assign(reference_variable, value_to_update)"
   ]
  },
  {
   "cell_type": "code",
   "execution_count": 33,
   "metadata": {},
   "outputs": [],
   "source": [
    "update = tf.assign(v,v+1)"
   ]
  },
  {
   "cell_type": "markdown",
   "metadata": {},
   "source": [
    "Varables is to be initialized by running an initialisation operation after having launched the graph."
   ]
  },
  {
   "cell_type": "code",
   "execution_count": 34,
   "metadata": {},
   "outputs": [],
   "source": [
    "init_op = tf.global_variables_initializer()"
   ]
  },
  {
   "cell_type": "markdown",
   "metadata": {},
   "source": [
    "start a session to run the graph.\n",
    "+ first initialize the variables\n",
    "+ then run operation of updating the state variable and print the result after each update"
   ]
  },
  {
   "cell_type": "code",
   "execution_count": 35,
   "metadata": {},
   "outputs": [
    {
     "name": "stdout",
     "output_type": "stream",
     "text": [
      "0\n",
      "1\n",
      "2\n",
      "3\n"
     ]
    }
   ],
   "source": [
    "with tf.Session() as session:\n",
    "    session.run(init_op)\n",
    "    print(session.run(v))\n",
    "    \n",
    "    for _ in range(3):\n",
    "        session.run(update)\n",
    "        print(session.run(v))"
   ]
  },
  {
   "cell_type": "markdown",
   "metadata": {},
   "source": [
    "### Placeholders"
   ]
  },
  {
   "cell_type": "markdown",
   "metadata": {},
   "source": [
    "Placeholders are used to feed the data to Tensorflow graph from outside a graph."
   ]
  },
  {
   "cell_type": "markdown",
   "metadata": {},
   "source": [
    "Placeholders can be seen as \"holes\" in the model which to pass the data to. It can be created by tf.placeholder(datatype)."
   ]
  },
  {
   "cell_type": "code",
   "execution_count": 36,
   "metadata": {},
   "outputs": [],
   "source": [
    "a = tf.placeholder(tf.float32)"
   ]
  },
  {
   "cell_type": "code",
   "execution_count": 37,
   "metadata": {},
   "outputs": [],
   "source": [
    "b = a * 2"
   ]
  },
  {
   "cell_type": "markdown",
   "metadata": {},
   "source": [
    "now there is a hole in the model to pass the data, it is necessary to pass data when the session is going to initialize, otherwise there will be an error"
   ]
  },
  {
   "cell_type": "code",
   "execution_count": 38,
   "metadata": {},
   "outputs": [
    {
     "name": "stdout",
     "output_type": "stream",
     "text": [
      "7.0\n"
     ]
    }
   ],
   "source": [
    "with tf.Session() as sess:\n",
    "    result = sess.run(b, feed_dict = {a: 3.5})\n",
    "    print(result)"
   ]
  },
  {
   "cell_type": "code",
   "execution_count": 39,
   "metadata": {},
   "outputs": [
    {
     "name": "stdout",
     "output_type": "stream",
     "text": [
      "10.0\n"
     ]
    }
   ],
   "source": [
    "with tf.Session() as sess:\n",
    "    result = sess.run(b, feed_dict = {a: 5})\n",
    "    print(result)"
   ]
  },
  {
   "cell_type": "markdown",
   "metadata": {},
   "source": [
    "its is allowed to pass any kind of tensors"
   ]
  },
  {
   "cell_type": "code",
   "execution_count": 40,
   "metadata": {},
   "outputs": [
    {
     "name": "stdout",
     "output_type": "stream",
     "text": [
      "[[[ 2.  4.  6.]\n",
      "  [ 8. 10. 12.]\n",
      "  [14. 16. 18.]\n",
      "  [20. 22. 24.]]\n",
      "\n",
      " [[26. 28. 30.]\n",
      "  [32. 34. 36.]\n",
      "  [38. 40. 42.]\n",
      "  [44. 46. 48.]]]\n"
     ]
    }
   ],
   "source": [
    "dictionary={a: [ [ [1,2,3],[4,5,6],[7,8,9],[10,11,12] ] , [ [13,14,15],[16,17,18],[19,20,21],[22,23,24] ] ] }\n",
    "\n",
    "with tf.Session() as sess:\n",
    "    result = sess.run(b,feed_dict=dictionary)\n",
    "    print (result)"
   ]
  },
  {
   "cell_type": "markdown",
   "metadata": {},
   "source": [
    "tf.nn.sigmoid is an activation function, it's a litthis function helps learning models to evaluate what kind of information is good or not."
   ]
  },
  {
   "cell_type": "code",
   "execution_count": null,
   "metadata": {},
   "outputs": [],
   "source": []
  }
 ],
 "metadata": {
  "kernelspec": {
   "display_name": "Python",
   "language": "python",
   "name": "conda-env-python-py"
  },
  "language_info": {
   "codemirror_mode": {
    "name": "ipython",
    "version": 3
   },
   "file_extension": ".py",
   "mimetype": "text/x-python",
   "name": "python",
   "nbconvert_exporter": "python",
   "pygments_lexer": "ipython3",
   "version": "3.6.11"
  }
 },
 "nbformat": 4,
 "nbformat_minor": 4
}
